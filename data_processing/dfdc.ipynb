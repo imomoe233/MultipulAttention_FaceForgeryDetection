{
 "cells": [
  {
   "cell_type": "code",
   "execution_count": null,
   "metadata": {},
   "outputs": [],
   "source": [
    "import zipfile\n",
    "import os\n",
    "import json\n",
    "\n",
    "folder_path = 'F:\\datasets\\Face\\DFDC\\DFDC_zip_org_data'\n",
    "\n",
    "file_list = os.listdir(folder_path)\n",
    "\n",
    "for file in file_list:\n",
    "    zip_file_path = 'F:\\\\datasets\\\\Face\\\\DFDC\\\\DFDC_zip_org_data\\\\' + file\n",
    "    output_dir = 'E:\\code_xwd\\dataset\\DFDC\\\\temp\\\\'\n",
    "    os.makedirs(output_dir, exist_ok=True)\n",
    "\n",
    "    items = os.listdir(output_dir)\n",
    "    \n",
    "    # JSON 文件路径\n",
    "    json_file_path = f'{items[0]}/metadate.json'\n",
    "\n",
    "    # 打开 JSON 文件并加载数据\n",
    "    with open(json_file_path, 'r') as json_file:\n",
    "        data = json.load(json_file)\n",
    "\n",
    "    with zipfile.ZipFile(zip_file_path, 'r') as zip_file:\n",
    "        #print('提取'+zip_file_path)\n",
    "        #print('保存'+output_dir)\n",
    "        zip_file_list = zip_file.namelist()\n",
    "        #print(zip_file_list)\n",
    "        #zip_file.extractall(output_dir)\n",
    "    \n",
    "    for sub_file in zip_file_list:\n",
    "        if sub_file[-4:] == '.mp4':\n",
    "            parts = sub_file.split('/')\n",
    "            filename = parts[1]\n",
    "            #print('读取文件夹中的视频' + output_dir + sub_file)\n",
    "            print('# 提取帧')\n",
    "            print('# 抽脸保存')\n",
    "            video_data = data[filename]\n",
    "            label_mp4 = video_data['label']\n",
    "            if label_mp4 == 'True':\n",
    "                "
   ]
  },
  {
   "cell_type": "code",
   "execution_count": null,
   "metadata": {},
   "outputs": [],
   "source": [
    "import os\n",
    "os.remove('E:\\code_xwd\\dataset\\DFDC/temp\\dfdc_train_part_0')"
   ]
  },
  {
   "cell_type": "code",
   "execution_count": null,
   "metadata": {},
   "outputs": [],
   "source": [
    "import shutil\n",
    "shutil.rmtree('E:\\code_xwd\\dataset\\DFDC/temp\\dfdc_train_part_0')"
   ]
  },
  {
   "cell_type": "code",
   "execution_count": null,
   "metadata": {},
   "outputs": [],
   "source": [
    "import torch\n",
    "\n",
    "print(torch.cuda.is_available())\n",
    "print(torch.cuda.device_count())"
   ]
  },
  {
   "cell_type": "code",
   "execution_count": null,
   "metadata": {},
   "outputs": [],
   "source": [
    "import os\n",
    "\n",
    "# 指定文件夹路径\n",
    "folder_path = 'E:\\code_xwd\\dataset\\Celeb-DF-v2/test/real/'\n",
    "\n",
    "# 获取文件夹内所有文件名\n",
    "file_list = os.listdir(folder_path)\n",
    "\n",
    "# 确保文件夹存在\n",
    "if not os.path.exists(folder_path):\n",
    "    print(\"文件夹不存在\")\n",
    "else:\n",
    "    # 遍历文件夹内的文件\n",
    "    for index, file_name in enumerate(file_list):\n",
    "        # 生成新的文件名，以数字形式命名，例如：1.jpg, 2.jpg, 3.jpg, ...\n",
    "        new_file_name = str(index + 4178) + os.path.splitext(file_name)[1]\n",
    "\n",
    "        # 构建旧文件路径和新文件路径\n",
    "        old_file_path = os.path.join(folder_path, file_name)\n",
    "        new_file_path = os.path.join(folder_path, new_file_name)\n",
    "        #print(old_file_path)\n",
    "        #print(new_file_path)\n",
    "        #print('E:\\code_xwd\\dataset\\Celeb-DF-v2/train_lap/fake/'+os.path.splitext(file_name)[0])\n",
    "        #print('E:\\code_xwd\\dataset\\Celeb-DF-v2/train_lap/fake/'+str(index + 0))\n",
    "        # 重命名文件\n",
    "        \n",
    "        #os.rename(old_file_path, new_file_path)\n",
    "        #os.rename('E:\\code_xwd\\dataset\\Celeb-DF-v2/test_lap/real/'+os.path.splitext(file_name)[0], 'E:\\code_xwd\\dataset\\Celeb-DF-v2/test_lap/real/'+str(index + 4178))\n",
    "\n",
    "    print(\"文件重命名完成\")\n"
   ]
  },
  {
   "cell_type": "code",
   "execution_count": null,
   "metadata": {},
   "outputs": [],
   "source": [
    "import os\n",
    "import csv\n",
    "\n",
    "# 指定主文件夹路径\n",
    "main_folder = 'E:\\code_xwd\\dataset\\Celeb-DF-v2/train/'\n",
    "\n",
    "# 创建一个CSV文件\n",
    "csv_file_path = 'E:\\code_xwd\\dataset\\Celeb-DF-v2/train.labels.csv'\n",
    "\n",
    "# 遍历'fake'和'real'子文件夹\n",
    "for label, sub_folder in enumerate(['fake', 'real']):\n",
    "    sub_folder_path = os.path.join(main_folder, sub_folder)\n",
    "\n",
    "    # 检查子文件夹是否存在\n",
    "    if not os.path.exists(sub_folder_path):\n",
    "        print(f\"子文件夹 '{sub_folder}' 不存在\")\n",
    "        continue\n",
    "\n",
    "    # 遍历子文件夹中的文件\n",
    "    for file_name in os.listdir(sub_folder_path):\n",
    "        # 获取文件名去掉后缀\n",
    "        file_name_without_extension = os.path.splitext(file_name)[0]\n",
    "\n",
    "        # 将记录写入CSV文件\n",
    "        with open(csv_file_path, mode='a', newline='') as file:\n",
    "            writer = csv.writer(file)\n",
    "            writer.writerow([label, file_name_without_extension])\n",
    "\n",
    "print(\"记录已保存到CSV文件中\")"
   ]
  },
  {
   "cell_type": "code",
   "execution_count": null,
   "metadata": {},
   "outputs": [],
   "source": []
  },
  {
   "cell_type": "code",
   "execution_count": null,
   "metadata": {},
   "outputs": [],
   "source": [
    "import os\n",
    "\n",
    "# 指定文件夹路径\n",
    "#folder_path = 'E:\\code_xwd\\dataset\\FF++/train'\n",
    "#folder_lap_path = 'E:\\code_xwd\\dataset\\FF++/train_lap'\n",
    "\n",
    "\n",
    "file_names = os.listdir(folder_path)\n",
    "count=0\n",
    "for file_name in file_names:\n",
    "    folder_name = os.path.splitext(file_name)[0]\n",
    "    if not os.path.exists(os.path.join(folder_lap_path, folder_name)):\n",
    "        print(folder_name)\n",
    "    else:\n",
    "        count += 1\n",
    "print(count)"
   ]
  },
  {
   "cell_type": "code",
   "execution_count": null,
   "metadata": {},
   "outputs": [],
   "source": [
    "import os\n",
    "import random\n",
    "import shutil\n",
    "\n",
    "# 指定文件夹路径\n",
    "#folder_path = 'E:\\code_xwd\\dataset\\Celeb-DF-v2/train/real'\n",
    "\n",
    "# 获取文件夹列表\n",
    "folder_names = os.listdir(folder_path)\n",
    "\n",
    "# 计算要提取的文件夹数量（20%）\n",
    "percent_to_extract = 0.20\n",
    "num_folders_to_extract = int(percent_to_extract * len(folder_names))\n",
    "\n",
    "# 随机提取文件夹名称\n",
    "random_folders = random.sample(folder_names, num_folders_to_extract)\n",
    "count = 0\n",
    "\n",
    "for folder in random_folders:\n",
    "    count+=1\n",
    "\n",
    "    shutil.copy('E:\\code_xwd\\dataset\\Celeb-DF-v2/train/real/'+folder, 'E:\\code_xwd\\dataset\\Celeb-DF-v2/test/real/'+folder)\n",
    "    os.remove('E:\\code_xwd\\dataset\\Celeb-DF-v2/train/real/'+folder)\n",
    "    shutil.copytree('E:\\code_xwd\\dataset\\Celeb-DF-v2/train_lap/real/'+folder[:-4], 'E:\\code_xwd\\dataset\\Celeb-DF-v2/test_lap/real/'+folder[:-4])\n",
    "    shutil.rmtree('E:\\code_xwd\\dataset\\Celeb-DF-v2/train_lap/real/'+folder[:-4])"
   ]
  },
  {
   "cell_type": "code",
   "execution_count": null,
   "metadata": {},
   "outputs": [],
   "source": [
    "import os\n",
    "import csv\n",
    "\n",
    "csv_file_path = 'E:\\code_xwd\\dataset\\Celeb-DF-v2/train.labels.csv'\n",
    "save_file_path = 'E:\\code_xwd\\dataset\\Celeb-DF-v2/train.labels - 副本.csv'\n",
    "\n",
    "list = []\n",
    "\n",
    "with open(csv_file_path, mode='r') as file:\n",
    "    reader = csv.reader(file)\n",
    "    for row in reader:\n",
    "        list.append(row)\n",
    "\n",
    "print(list)\n",
    "\n",
    "# 将记录写入CSV文件\n",
    "with open(save_file_path, mode='a', newline='') as file:\n",
    "    writer = csv.writer(file)\n",
    "    for i in range(len(list)):\n",
    "        writer.writerow([list[i][0], list[i][1]+'.jpg'])\n",
    "\n",
    "print(\"记录已保存到CSV文件中\")"
   ]
  },
  {
   "cell_type": "code",
   "execution_count": null,
   "metadata": {},
   "outputs": [],
   "source": [
    "import numpy as np\n",
    "data = np.load('E:\\code_xwd\\dataset\\Celeb-DF-v2/train_lap/2021/2021encoder.npy')\n",
    "\n",
    "print('type :', type(data))\n",
    "print('shape :', data.shape)"
   ]
  },
  {
   "cell_type": "code",
   "execution_count": null,
   "metadata": {},
   "outputs": [],
   "source": [
    "import os\n",
    "import random\n",
    "\n",
    "def random_delete_files(folder_path, deletion_fraction):\n",
    "    # 获取文件夹中所有文件\n",
    "    all_files = os.listdir(folder_path)\n",
    "\n",
    "    # 计算要删除的文件数\n",
    "    num_files_to_delete = int(len(all_files) * deletion_fraction)\n",
    "\n",
    "    # 从文件列表中随机选择要删除的文件\n",
    "    files_to_delete = random.sample(all_files, num_files_to_delete)\n",
    "\n",
    "    # 删除选定的文件\n",
    "    for file_name in files_to_delete:\n",
    "        file_path = os.path.join(folder_path, file_name)\n",
    "        try:\n",
    "            os.remove(file_path)\n",
    "            print(f\"Deleted: {file_path}\")\n",
    "        except Exception as e:\n",
    "            print(f\"Error deleting {file_path}: {e}\")\n",
    "\n",
    "# 用法示例\n",
    "folder_path = \"E:\\code_xwd\\dataset\\Celeb-DF-v2/test-align-delete\"\n",
    "deletion_fraction = 5/6  # 删除的比例，这里是1/6\n",
    "\n",
    "random_delete_files(folder_path, deletion_fraction)\n"
   ]
  },
  {
   "cell_type": "markdown",
   "metadata": {},
   "source": []
  },
  {
   "cell_type": "code",
   "execution_count": 11,
   "outputs": [],
   "source": [
    "import os\n",
    "\n",
    "# 设置您的目录路径\n",
    "image_dir = r'/home/darui/code_xwd/datasets/Celeb-synthesis-face-align'\n",
    "folder_dir = r'/home/darui/code_xwd/datasets/Celeb-synthesis-face-align_lap'\n",
    "new_num = 0\n",
    "# 获取所有的.jpg文件\n",
    "for filename in os.listdir(image_dir):\n",
    "    if filename.endswith('.jpg'):\n",
    "        # 获取文件名中的数字部分\n",
    "        old_num = int(filename.split('.')[0])\n",
    "        # 计算新的数字\n",
    "\n",
    "        new_num += 1\n",
    "        # 创建新的文件名\n",
    "        new_filename = f'{new_num}.jpg'\n",
    "\n",
    "        os.rename(os.path.join(image_dir, filename), os.path.join(image_dir, new_filename))\n"
   ],
   "metadata": {
    "collapsed": false,
    "ExecuteTime": {
     "end_time": "2023-11-17T14:41:45.836658383Z",
     "start_time": "2023-11-17T14:41:41.733170298Z"
    }
   }
  },
  {
   "cell_type": "code",
   "execution_count": 5,
   "metadata": {
    "ExecuteTime": {
     "end_time": "2023-11-17T14:06:26.456921546Z",
     "start_time": "2023-11-17T14:06:22.325401325Z"
    }
   },
   "outputs": [],
   "source": [
    "import os\n",
    "\n",
    "# 设置您的目录路径\n",
    "image_dir = r'/home/darui/code_xwd/datasets/Celeb-synthesis-face-align'\n",
    "folder_dir = r'/home/darui/code_xwd/datasets/Celeb-synthesis-face-align_lap'\n",
    "#new_num = 0\n",
    "# 获取所有的.jpg文件\n",
    "for filename in os.listdir(image_dir):\n",
    "    if filename.endswith('.jpg'):\n",
    "        # 获取文件名中的数字部分\n",
    "        old_num = int(filename.split('.')[0])\n",
    "        # 计算新的数字\n",
    "        new_num = old_num + 100000000\n",
    "        #new_num += 1\n",
    "        # 创建新的文件名\n",
    "        new_filename = f'{new_num}.jpg'\n",
    "        # 重命名文件\n",
    "        try:\n",
    "            os.rename(os.path.join(image_dir, filename), os.path.join(image_dir, new_filename))\n",
    "        except:\n",
    "            continue\n",
    "        # 同时重命名对应的文件夹\n",
    "        old_foldername = str(old_num)\n",
    "        new_foldername = str(new_num)\n",
    "        # 重命名文件夹\n",
    "        try:\n",
    "            os.rename(os.path.join(folder_dir, old_foldername), os.path.join(folder_dir, new_foldername))\n",
    "        except:\n",
    "            continue\n"
   ]
  },
  {
   "cell_type": "code",
   "execution_count": 3,
   "metadata": {},
   "outputs": [
    {
     "name": "stdout",
     "output_type": "stream",
     "text": [
      "Files have been successfully moved to train and test directories and recorded in CSV.\n"
     ]
    }
   ],
   "source": [
    "import os\n",
    "import shutil\n",
    "import random\n",
    "import csv\n",
    "\n",
    "# 设置原始图片和对应文件夹的路径\n",
    "images_dir = r'E:\\code_xwd\\dataset\\Celeb-DF-v2\\Celeb-synthesis-face-align'\n",
    "folders_dir = r'E:\\code_xwd\\dataset\\Celeb-DF-v2\\Celeb-synthesis-face-align_lap'\n",
    "\n",
    "# 设置目标训练集和测试集的路径\n",
    "train_images_dir = r'E:\\code_xwd\\dataset\\Celeb-DF-v2\\train'\n",
    "train_folders_dir = r'E:\\code_xwd\\dataset\\Celeb-DF-v2\\train_lap'\n",
    "test_images_dir = r'E:\\code_xwd\\dataset\\Celeb-DF-v2\\test'\n",
    "test_folders_dir = r'E:\\code_xwd\\dataset\\Celeb-DF-v2\\test_lap'\n",
    "\n",
    "# 创建CSV文件并写入标题行\n",
    "with open('file_movements.csv', 'w', newline='') as file:\n",
    "    writer = csv.writer(file)\n",
    "    writer.writerow(['Index', 'Filename'])\n",
    "\n",
    "# 获取所有图片\n",
    "all_images = os.listdir(images_dir)\n",
    "\n",
    "# 随机化列表\n",
    "random.shuffle(all_images)\n",
    "\n",
    "# 计算训练集的数量（80%）\n",
    "train_size = int(0.8 * len(all_images))\n",
    "\n",
    "# 分配训练集和测试集的图片\n",
    "train_images = all_images[:train_size]\n",
    "test_images = all_images[train_size:]\n",
    "\n",
    "# 定义一个函数来移动图片和对应的文件夹，并记录到CSV\n",
    "def move_files(files, src_img_dir, src_fld_dir, dst_img_dir, dst_fld_dir, csv_writer):\n",
    "    for index, file in enumerate(files, start=1):\n",
    "        image_path = os.path.join(src_img_dir, file)\n",
    "        folder_path = os.path.join(src_fld_dir, file.split('.')[0])\n",
    "        \n",
    "        # 移动图片\n",
    "        shutil.move(image_path, dst_img_dir)\n",
    "        \n",
    "        # 移动对应的文件夹\n",
    "        if os.path.isdir(folder_path):\n",
    "            shutil.move(folder_path, dst_fld_dir)\n",
    "        \n",
    "        # 写入CSV\n",
    "        csv_writer.writerow([1, file])\n",
    "\n",
    "# 移动文件到训练集和测试集，并记录到CSV\n",
    "with open('file_movements.csv', 'a', newline='') as file:\n",
    "    writer = csv.writer(file)\n",
    "    move_files(train_images, images_dir, folders_dir, train_images_dir, train_folders_dir, writer)\n",
    "    move_files(test_images, images_dir, folders_dir, test_images_dir, test_folders_dir, writer)\n",
    "\n",
    "print('Files have been successfully moved to train and test directories and recorded in CSV.')\n"
   ]
  },
  {
   "cell_type": "code",
   "execution_count": 6,
   "metadata": {},
   "outputs": [],
   "source": [
    "# We will create a Python script that simulates traversing a folder of images and adding entries into a CSV file.\n",
    "\n",
    "import csv\n",
    "import os\n",
    "\n",
    "all_images = os.listdir('E:\\code_xwd\\dataset\\Celeb-DF-v2/train')\n",
    "\n",
    "# The path to the CSV file where we will write the data\n",
    "csv_file_path = 'E:\\code_xwd\\dataset\\Celeb-DF-v2/train.labels.csv'\n",
    "\n",
    "# Creating the CSV file and writing the header and image data\n",
    "with open(csv_file_path, mode='w', newline='') as file:\n",
    "    writer = csv.writer(file)\n",
    "\n",
    "    # Writing image data\n",
    "    for index, image_name in enumerate(all_images, start=1):\n",
    "        writer.writerow([1, image_name])\n"
   ]
  },
  {
   "cell_type": "code",
   "execution_count": 10,
   "outputs": [
    {
     "name": "stdout",
     "output_type": "stream",
     "text": [
      "152698\n"
     ]
    }
   ],
   "source": [
    "images_dir = r'/home/darui/code_xwd/datasets/Celeb-synthesis-face-align'\n",
    "folders_dir = r'/home/darui/code_xwd/datasets/Celeb-synthesis-face-align_lap'\n",
    "\n",
    "print(len(os.listdir(images_dir)))\n",
    "#print(len(os.listdir(folders_dir)))"
   ],
   "metadata": {
    "collapsed": false,
    "ExecuteTime": {
     "end_time": "2023-11-17T14:16:19.422979123Z",
     "start_time": "2023-11-17T14:16:19.044911025Z"
    }
   }
  },
  {
   "cell_type": "code",
   "execution_count": null,
   "outputs": [],
   "source": [],
   "metadata": {
    "collapsed": false
   }
  }
 ],
 "metadata": {
  "kernelspec": {
   "display_name": "sd",
   "language": "python",
   "name": "python3"
  },
  "language_info": {
   "codemirror_mode": {
    "name": "ipython",
    "version": 3
   },
   "file_extension": ".py",
   "mimetype": "text/x-python",
   "name": "python",
   "nbconvert_exporter": "python",
   "pygments_lexer": "ipython3",
   "version": "3.9.18"
  }
 },
 "nbformat": 4,
 "nbformat_minor": 2
}
