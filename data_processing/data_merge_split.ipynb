{
 "cells": [
  {
   "cell_type": "code",
   "execution_count": null,
   "metadata": {},
   "outputs": [],
   "source": [
    "import os\n",
    "import shutil\n",
    "import random\n",
    "import csv\n",
    "\n",
    "def random_split_and_copy(source_folder, train_folder, test_folder, train_csv, test_csv, train_percentage=0.8):\n",
    "    files = [f for f in os.listdir(source_folder) if os.path.isfile(os.path.join(source_folder, f))]\n",
    "    \n",
    "    # 计算训练集和测试集的数量\n",
    "    train_size = int(len(files) * train_percentage)\n",
    "    \n",
    "    # 随机选择训练集\n",
    "    train_files = random.sample(files, train_size)\n",
    "    \n",
    "    # 其余文件为测试集\n",
    "    test_files = list(set(files) - set(train_files))\n",
    "\n",
    "    # 创建训练集和测试集文件夹\n",
    "    os.makedirs(train_folder, exist_ok=True)\n",
    "    os.makedirs(test_folder, exist_ok=True)\n",
    "\n",
    "    # 复制文件到训练集和测试集\n",
    "    for file in train_files:\n",
    "        source_path = os.path.join(source_folder, file)\n",
    "        destination_path = os.path.join(train_folder, file)\n",
    "        shutil.copyfile(source_path, destination_path)\n",
    "        # 写入训练集CSV文件\n",
    "        with open(train_csv, 'a', newline='') as csvfile:\n",
    "            csv_writer = csv.writer(csvfile)\n",
    "            csv_writer.writerow([0 if 'fake' in source_folder else 1, file])\n",
    "\n",
    "    for file in test_files:\n",
    "        source_path = os.path.join(source_folder, file)\n",
    "        destination_path = os.path.join(test_folder, file)\n",
    "        shutil.copyfile(source_path, destination_path)\n",
    "        # 写入测试集CSV文件\n",
    "        with open(test_csv, 'a', newline='') as csvfile:\n",
    "            csv_writer = csv.writer(csvfile)\n",
    "            csv_writer.writerow([0 if 'fake' in source_folder else 1, file])\n",
    "\n",
    "# 定义文件夹路径\n",
    "fake_folder = 'F:\\ECCV\\data_preprocessing\\processed\\FF++/fake'\n",
    "real_folder = 'F:\\ECCV\\data_preprocessing\\processed\\FF++/real'\n",
    "train_folder = 'F:\\ECCV\\data_preprocessing\\processed\\FF++/train'\n",
    "test_folder = 'F:\\ECCV\\data_preprocessing\\processed\\FF++/test'\n",
    "train_csv = 'F:\\ECCV\\data_preprocessing\\processed\\FF++/trains.labels.csv'\n",
    "test_csv = 'F:\\ECCV\\data_preprocessing\\processed\\FF++/tests.labels.csv'\n",
    "\n",
    "# 清空之前可能存在的CSV文件\n",
    "with open(train_csv, 'w', newline='') as csvfile:\n",
    "    pass\n",
    "\n",
    "with open(test_csv, 'w', newline='') as csvfile:\n",
    "    pass\n",
    "\n",
    "# 分别处理fake和real文件夹\n",
    "random_split_and_copy(fake_folder, train_folder, test_folder, train_csv, test_csv)\n",
    "random_split_and_copy(real_folder, train_folder, test_folder, train_csv, test_csv)\n",
    "\n",
    "print(\"文件复制和CSV文件生成完成。\")\n"
   ]
  }
 ],
 "metadata": {
  "kernelspec": {
   "display_name": "Python 3.9.18 ('sd')",
   "language": "python",
   "name": "python3"
  },
  "language_info": {
   "name": "python",
   "version": "3.9.18"
  },
  "orig_nbformat": 4,
  "vscode": {
   "interpreter": {
    "hash": "8ba9fe3eef82692502a48866c7f8efd052ef1c396ca1b3afd2d28f0f47d26332"
   }
  }
 },
 "nbformat": 4,
 "nbformat_minor": 2
}
