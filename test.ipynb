{
 "cells": [
  {
   "cell_type": "code",
   "execution_count": 21,
   "metadata": {},
   "outputs": [
    {
     "name": "stdout",
     "output_type": "stream",
     "text": [
      "torch.Size([3, 14, 512])\n"
     ]
    }
   ],
   "source": [
    "import numpy as np\n",
    "import torch\n",
    "\n",
    "tensor1 = torch.load(\"E:\\code_xwd\\dataset\\Face_Forgery_Detection\\\\train_lap\\\\1\\\\1encoder.npy\")\n",
    "tensor2 = torch.load(\"E:\\code_xwd\\dataset\\Face_Forgery_Detection\\\\train_lap\\\\2\\\\2encoder.npy\")\n",
    "tensor3 = torch.load(\"E:\\code_xwd\\dataset\\Face_Forgery_Detection\\\\train_lap\\\\3\\\\3encoder.npy\")\n",
    "z = []\n",
    "z.append(tensor1)\n",
    "z.append(tensor2)\n",
    "z.append(tensor3)\n",
    "\n",
    "\n",
    "combined_tensor = torch.stack((z), dim=0)\n",
    "print(combined_tensor.size())"
   ]
  },
  {
   "cell_type": "code",
   "execution_count": null,
   "metadata": {},
   "outputs": [],
   "source": []
  }
 ],
 "metadata": {
  "kernelspec": {
   "display_name": "Python 3.9.18 ('sd')",
   "language": "python",
   "name": "python3"
  },
  "language_info": {
   "codemirror_mode": {
    "name": "ipython",
    "version": 3
   },
   "file_extension": ".py",
   "mimetype": "text/x-python",
   "name": "python",
   "nbconvert_exporter": "python",
   "pygments_lexer": "ipython3",
   "version": "3.9.18"
  },
  "vscode": {
   "interpreter": {
    "hash": "8ba9fe3eef82692502a48866c7f8efd052ef1c396ca1b3afd2d28f0f47d26332"
   }
  }
 },
 "nbformat": 4,
 "nbformat_minor": 2
}
